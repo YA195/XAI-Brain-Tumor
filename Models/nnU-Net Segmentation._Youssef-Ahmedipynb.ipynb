{
 "cells": [
  {
   "cell_type": "code",
   "execution_count": 3,
   "id": "20b72a6d",
   "metadata": {},
   "outputs": [],
   "source": [
    "import os\n",
    "import numpy as np\n",
    "import torch\n",
    "import torch.nn as nn\n",
    "import torch.optim as optim\n",
    "from torch.utils.data import DataLoader, Dataset\n",
    "from torchvision import transforms\n",
    "import cv2\n",
    "import random"
   ]
  },
  {
   "cell_type": "code",
   "execution_count": 4,
   "id": "3e50d3a0",
   "metadata": {},
   "outputs": [],
   "source": [
    "train_images_dir = \"G:/XAI/preprocessed_images/train_images\"\n",
    "train_masks_dir = \"G:/XAI/preprocessed_images/train_masks\"\n",
    "val_images_dir = \"G:/XAI/preprocessed_images/val_images\"\n",
    "val_masks_dir = \"G:/XAI/preprocessed_images/val_masks\"\n",
    "\n",
    "def load_images_and_masks(image_dir, mask_dir, target_size=(112, 112)):\n",
    "    image_files = sorted([os.path.join(image_dir, f) for f in os.listdir(image_dir) if f.endswith('.png')])\n",
    "    mask_files = sorted([os.path.join(mask_dir, f) for f in os.listdir(mask_dir) if f.endswith('.png')])\n",
    "    \n",
    "    images = [cv2.imread(img, cv2.IMREAD_GRAYSCALE) for img in image_files]\n",
    "    masks = [cv2.imread(mask, cv2.IMREAD_GRAYSCALE) for mask in mask_files]\n",
    "    \n",
    "    images = [cv2.resize(img, target_size) for img in images]\n",
    "    masks = [cv2.resize(mask, target_size) for mask in masks]\n",
    "    \n",
    "    images = np.expand_dims(np.array(images), axis=-1)  \n",
    "    masks = np.array(masks)\n",
    "    \n",
    "    return images, masks\n",
    "\n",
    "train_images, train_masks = load_images_and_masks(train_images_dir, train_masks_dir)\n",
    "val_images, val_masks = load_images_and_masks(val_images_dir, val_masks_dir)\n"
   ]
  },
  {
   "cell_type": "code",
   "execution_count": 5,
   "id": "acf40d7b",
   "metadata": {},
   "outputs": [
    {
     "name": "stdout",
     "output_type": "stream",
     "text": [
      "Train images shape: (4033, 112, 112, 1)\n",
      "Train masks shape: (4033, 112, 112)\n",
      "Validation images shape: (1009, 112, 112, 1)\n",
      "Validation masks shape: (1009, 112, 112)\n"
     ]
    }
   ],
   "source": [
    "print(f\"Train images shape: {train_images.shape}\")\n",
    "print(f\"Train masks shape: {train_masks.shape}\")\n",
    "print(f\"Validation images shape: {val_images.shape}\")\n",
    "print(f\"Validation masks shape: {val_masks.shape}\")"
   ]
  },
  {
   "cell_type": "code",
   "execution_count": null,
   "id": "a8dd4959",
   "metadata": {},
   "outputs": [],
   "source": []
  }
 ],
 "metadata": {
  "kernelspec": {
   "display_name": "base",
   "language": "python",
   "name": "python3"
  },
  "language_info": {
   "codemirror_mode": {
    "name": "ipython",
    "version": 3
   },
   "file_extension": ".py",
   "mimetype": "text/x-python",
   "name": "python",
   "nbconvert_exporter": "python",
   "pygments_lexer": "ipython3",
   "version": "3.12.3"
  }
 },
 "nbformat": 4,
 "nbformat_minor": 5
}
